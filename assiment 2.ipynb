{
 "cells": [
  {
   "cell_type": "code",
   "execution_count": 1,
   "id": "69497e8e-d5de-4659-b2f5-6683dbdb45bc",
   "metadata": {},
   "outputs": [],
   "source": [
    "### Q1. How do you comment code in Python? What are the different types of comments?"
   ]
  },
  {
   "cell_type": "code",
   "execution_count": 2,
   "id": "b770e905-0ab9-40c8-a734-6b74eba52077",
   "metadata": {},
   "outputs": [],
   "source": [
    "### Ans In Python, e can comment code using the \"#\" symbol after the \"#\" symbol on a line is considered a comment . There are two types of comments in Python:"
   ]
  },
  {
   "cell_type": "code",
   "execution_count": 3,
   "id": "13b1b620-8b2f-4bae-a545-295979e172a6",
   "metadata": {},
   "outputs": [
    {
     "data": {
      "text/plain": [
       "' \\n Single-line comments.\\n multi line comment.\\n '"
      ]
     },
     "execution_count": 3,
     "metadata": {},
     "output_type": "execute_result"
    }
   ],
   "source": [
    "''' \n",
    " Single-line comments.\n",
    " multi line comment.\n",
    " '''"
   ]
  },
  {
   "cell_type": "code",
   "execution_count": 4,
   "id": "0e7ba684-6557-462d-8bf7-9a51c75aaa60",
   "metadata": {},
   "outputs": [],
   "source": [
    "### Q2. Variables in Python are used to store values. You can declare a variable and assign a value to it using the following syntax:"
   ]
  },
  {
   "cell_type": "code",
   "execution_count": 9,
   "id": "9ba98ed4-fe35-409f-bdc3-7b2c621f95d7",
   "metadata": {},
   "outputs": [],
   "source": [
    "a= \"age\"\n",
    "name = \"ram\"\n",
    "age=35"
   ]
  },
  {
   "cell_type": "code",
   "execution_count": 10,
   "id": "7a5991fa-3182-4da1-837b-3c443e62ac90",
   "metadata": {},
   "outputs": [],
   "source": [
    "### Q3. In Python, you can convert one data type to another using type conversion functions or by assigning a new value of a different data type to the variable. Some commonly used type conversion functions include:"
   ]
  },
  {
   "cell_type": "code",
   "execution_count": 12,
   "id": "fee59640-e06e-4850-93e1-147d08ac3d94",
   "metadata": {},
   "outputs": [],
   "source": [
    "# Convert a string to an integer\n",
    "num_str = \"19\"\n",
    "num_int = int(num_str)\n",
    "\n",
    "# Convert an integer to a string\n",
    "num_int = 9\n",
    "num_str = str(num_int)\n"
   ]
  },
  {
   "cell_type": "code",
   "execution_count": 13,
   "id": "05e4d41a-f685-4786-a7bf-fd6c5e9fd6c4",
   "metadata": {},
   "outputs": [],
   "source": [
    "###Q4. How do you write and execute a Python script from the command line?"
   ]
  },
  {
   "cell_type": "code",
   "execution_count": 14,
   "id": "999aec8b-cad5-4d27-a61f-78e6e57d21f2",
   "metadata": {},
   "outputs": [],
   "source": [
    "### Q5. Given a list my_list = [1, 2, 3, 4, 5], write the code to slice the list and obtain the sub-list [2, 3].\n"
   ]
  },
  {
   "cell_type": "code",
   "execution_count": 15,
   "id": "15fcafd5-6d42-4020-8ea3-aa2c4ebe8a61",
   "metadata": {},
   "outputs": [
    {
     "name": "stdout",
     "output_type": "stream",
     "text": [
      "[3, 4]\n"
     ]
    }
   ],
   "source": [
    "my_list = [1,3,4,5,6,7,8,9]\n",
    "sub_list = my_list[1:3]\n",
    "print(sub_list)\n"
   ]
  },
  {
   "cell_type": "code",
   "execution_count": 16,
   "id": "1b6cf28c-57fd-4946-9e4e-b7d4873f13d4",
   "metadata": {},
   "outputs": [],
   "source": [
    "### Q6. What is a complex number in mathematics, and how is it represented in Python?"
   ]
  },
  {
   "cell_type": "code",
   "execution_count": 17,
   "id": "97a5c0d3-0d53-4ae3-8dfc-d32391280b2c",
   "metadata": {},
   "outputs": [
    {
     "name": "stdout",
     "output_type": "stream",
     "text": [
      "(3+2j)\n"
     ]
    }
   ],
   "source": [
    "z = 3 + 2j\n",
    "print(z)\n"
   ]
  },
  {
   "cell_type": "code",
   "execution_count": 18,
   "id": "eb60101c-5b8d-4889-9360-8d9ffbb221f6",
   "metadata": {},
   "outputs": [],
   "source": [
    "###Q7. What is the correct way to declare a variable named age and assign the value 25 to it?"
   ]
  },
  {
   "cell_type": "code",
   "execution_count": 19,
   "id": "4a73e4f0-15a2-4fe7-bf9a-7ad75f9e2567",
   "metadata": {},
   "outputs": [],
   "source": [
    "age = 25\n"
   ]
  },
  {
   "cell_type": "code",
   "execution_count": 22,
   "id": "1d9e5910-8406-4eb5-b95c-524158fb708b",
   "metadata": {},
   "outputs": [
    {
     "data": {
      "text/plain": [
       "'Q8. Declare a variable named price and assign the value 9.99 to it. What data type does this variable \\nbelong to?'"
      ]
     },
     "execution_count": 22,
     "metadata": {},
     "output_type": "execute_result"
    }
   ],
   "source": [
    "\"\"\"Q8. Declare a variable named price and assign the value 9.99 to it. What data type does this variable \n",
    "belong to?\"\"\"\n"
   ]
  },
  {
   "cell_type": "code",
   "execution_count": 23,
   "id": "d8b98f8f-2bfc-478b-a70d-008b7c196c1f",
   "metadata": {},
   "outputs": [],
   "source": [
    "pric=9.99"
   ]
  },
  {
   "cell_type": "code",
   "execution_count": 34,
   "id": "1fffa47c-508f-47ba-acc8-9d42967446f0",
   "metadata": {},
   "outputs": [
    {
     "data": {
      "text/plain": [
       "float"
      ]
     },
     "execution_count": 34,
     "metadata": {},
     "output_type": "execute_result"
    }
   ],
   "source": [
    "type(pric)"
   ]
  },
  {
   "cell_type": "code",
   "execution_count": 36,
   "id": "b607f479-d843-4cd7-9451-b51617b74a95",
   "metadata": {},
   "outputs": [
    {
     "data": {
      "text/plain": [
       "' Q9. Create a variable named name and assign your full name to it as a string. How would you print the \\nvalue of this variable?'"
      ]
     },
     "execution_count": 36,
     "metadata": {},
     "output_type": "execute_result"
    }
   ],
   "source": [
    "\"\"\" Q9. Create a variable named name and assign your full name to it as a string. How would you print the \n",
    "value of this variable?\"\"\""
   ]
  },
  {
   "cell_type": "code",
   "execution_count": 37,
   "id": "3bf06359-4557-4ba6-bb9b-22b81d8689b0",
   "metadata": {},
   "outputs": [
    {
     "name": "stdout",
     "output_type": "stream",
     "text": [
      "rahulrai\n"
     ]
    }
   ],
   "source": [
    "name=\"rahulrai\"\n",
    "print(name)"
   ]
  },
  {
   "cell_type": "code",
   "execution_count": 38,
   "id": "b3a904f2-8e61-4849-911c-d82095bc8f54",
   "metadata": {},
   "outputs": [],
   "source": [
    "###Q10. Given the string \"Hello, World!\", extract the substring \"World\"."
   ]
  },
  {
   "cell_type": "code",
   "execution_count": 39,
   "id": "f4fe9f6d-781f-47a9-8557-fe1b75e7d6fd",
   "metadata": {},
   "outputs": [
    {
     "name": "stdout",
     "output_type": "stream",
     "text": [
      "World\n"
     ]
    }
   ],
   "source": [
    "string = \"Hello, World!\"\n",
    "substring = string[7:12]\n",
    "print(substring)\n"
   ]
  },
  {
   "cell_type": "code",
   "execution_count": 40,
   "id": "f0003118-2b8a-41a0-a938-89a90a8fff86",
   "metadata": {},
   "outputs": [],
   "source": [
    "###Q11. Create a variable named \"is_student\" and assign it a boolean value indicating whether you are \n",
    "### currently a student or not."
   ]
  },
  {
   "cell_type": "code",
   "execution_count": 41,
   "id": "f9579309-84d3-450b-94c8-3c4cdaf13205",
   "metadata": {},
   "outputs": [],
   "source": [
    "is_student = True \n"
   ]
  },
  {
   "cell_type": "code",
   "execution_count": null,
   "id": "9c135ce7-873e-4b2d-aa32-aa11af71821c",
   "metadata": {},
   "outputs": [],
   "source": []
  }
 ],
 "metadata": {
  "kernelspec": {
   "display_name": "Python 3 (ipykernel)",
   "language": "python",
   "name": "python3"
  },
  "language_info": {
   "codemirror_mode": {
    "name": "ipython",
    "version": 3
   },
   "file_extension": ".py",
   "mimetype": "text/x-python",
   "name": "python",
   "nbconvert_exporter": "python",
   "pygments_lexer": "ipython3",
   "version": "3.10.8"
  }
 },
 "nbformat": 4,
 "nbformat_minor": 5
}
